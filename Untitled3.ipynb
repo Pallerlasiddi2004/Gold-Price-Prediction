{
  "nbformat": 4,
  "nbformat_minor": 0,
  "metadata": {
    "colab": {
      "provenance": [],
      "authorship_tag": "ABX9TyMufyrXx0M7dO5F5lvKvWXB",
      "include_colab_link": true
    },
    "kernelspec": {
      "name": "python3",
      "display_name": "Python 3"
    },
    "language_info": {
      "name": "python"
    }
  },
  "cells": [
    {
      "cell_type": "markdown",
      "metadata": {
        "id": "view-in-github",
        "colab_type": "text"
      },
      "source": [
        "<a href=\"https://colab.research.google.com/github/Pallerlasiddi2004/Gold-Price-Prediction/blob/main/Untitled3.ipynb\" target=\"_parent\"><img src=\"https://colab.research.google.com/assets/colab-badge.svg\" alt=\"Open In Colab\"/></a>"
      ]
    },
    {
      "cell_type": "markdown",
      "source": [
        "SR University\n",
        "\n",
        "P.Siddi (2105A42007)\n",
        "G.Anita (2105A41102)"
      ],
      "metadata": {
        "id": "pD6KewAplDBu"
      }
    },
    {
      "cell_type": "markdown",
      "source": [
        "Simple calculator"
      ],
      "metadata": {
        "id": "e1H1McvmqeOf"
      }
    },
    {
      "cell_type": "code",
      "execution_count": null,
      "metadata": {
        "colab": {
          "base_uri": "https://localhost:8080/"
        },
        "id": "-qmy2OsUh29e",
        "outputId": "5cd8a238-e6c9-4d36-d019-7b597074291c"
      },
      "outputs": [
        {
          "name": "stdout",
          "output_type": "stream",
          "text": [
            "Choose operation (+, -, *, /): -\n",
            "Enter first number: 54\n",
            "Enter second number: 52\n",
            "Result: 2.0\n",
            "Continue? (y/n): n\n"
          ]
        }
      ],
      "source": [
        "\n",
        "def add(a, b):\n",
        "  return a + b\n",
        "\n",
        "def subtract(a, b):\n",
        "  return a - b\n",
        "\n",
        "def multiply(a, b):\n",
        "  return a * b\n",
        "\n",
        "def divide(a, b):\n",
        "  if b == 0:\n",
        "    print(\"Error: Cannot divide by zero.\")\n",
        "    return None\n",
        "  else:\n",
        "    return a / b\n",
        "\n",
        "while True:\n",
        "  operation = input(\"Choose operation (+, -, *, /): \")\n",
        "  num1 = float(input(\"Enter first number: \"))\n",
        "  num2 = float(input(\"Enter second number: \"))\n",
        "\n",
        "  if operation == \"+\":\n",
        "    result = add(num1, num2)\n",
        "  elif operation == \"-\":\n",
        "    result = subtract(num1, num2)\n",
        "  elif operation == \"*\":\n",
        "    result = multiply(num1, num2)\n",
        "  elif operation == \"/\":\n",
        "    result = divide(num1, num2)\n",
        "  else:\n",
        "    print(\"Invalid operation.\")\n",
        "    continue\n",
        "\n",
        "  print(\"Result:\", result)\n",
        "\n",
        "  if input(\"Continue? (y/n): \").lower() != \"y\":\n",
        "    break"
      ]
    }
  ]
}